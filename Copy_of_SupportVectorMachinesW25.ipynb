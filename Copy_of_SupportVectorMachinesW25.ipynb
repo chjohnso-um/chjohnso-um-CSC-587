{
  "nbformat": 4,
  "nbformat_minor": 0,
  "metadata": {
    "anaconda-cloud": {},
    "kernelspec": {
      "display_name": "Python [Root]",
      "language": "python",
      "name": "Python [Root]"
    },
    "language_info": {
      "codemirror_mode": {
        "name": "ipython",
        "version": 3
      },
      "file_extension": ".py",
      "mimetype": "text/x-python",
      "name": "python",
      "nbconvert_exporter": "python",
      "pygments_lexer": "ipython3",
      "version": "3.5.5"
    },
    "colab": {
      "provenance": [],
      "include_colab_link": true
    }
  },
  "cells": [
    {
      "cell_type": "markdown",
      "metadata": {
        "id": "view-in-github",
        "colab_type": "text"
      },
      "source": [
        "<a href=\"https://colab.research.google.com/github/chjohnso-um/chjohnso-um-CSC-587/blob/main/Copy_of_SupportVectorMachinesW25.ipynb\" target=\"_parent\"><img src=\"https://colab.research.google.com/assets/colab-badge.svg\" alt=\"Open In Colab\"/></a>"
      ]
    },
    {
      "cell_type": "code",
      "metadata": {
        "id": "Oznk6SGeuBNx",
        "colab": {
          "base_uri": "https://localhost:8080/"
        },
        "outputId": "6f637ffd-6a73-444e-d841-a73ceebcbf01"
      },
      "source": [
        "from google.colab import drive\n",
        "drive.mount('/content/drive')"
      ],
      "execution_count": 1,
      "outputs": [
        {
          "output_type": "stream",
          "name": "stdout",
          "text": [
            "Drive already mounted at /content/drive; to attempt to forcibly remount, call drive.mount(\"/content/drive\", force_remount=True).\n"
          ]
        }
      ]
    },
    {
      "cell_type": "code",
      "metadata": {
        "id": "L978BR5uq3XV"
      },
      "source": [
        "from sklearn import svm\n",
        "import pandas as pd\n",
        "import numpy as np\n",
        "\n",
        "C=1e+03 #1000\n",
        "gamma=1e-05 #0.0001\n",
        "clf = svm.SVC(C=C, gamma=gamma, kernel='rbf', probability=True)"
      ],
      "execution_count": 2,
      "outputs": []
    },
    {
      "cell_type": "code",
      "metadata": {
        "id": "r3avzGW5q3Xd",
        "colab": {
          "base_uri": "https://localhost:8080/"
        },
        "outputId": "7a1ad329-93bb-488a-923a-c58bf01d6f7c"
      },
      "source": [
        "import pandas as pd\n",
        "train = pd.read_csv('/content/drive/My Drive/DATA/diabetes_train.csv') #this is our dataset, please change the path for your case\n",
        "test = pd.read_csv('/content/drive/My Drive/DATA/diabetes_test.csv')\n",
        "train.columns[:8] #wanted to show which attributs we have"
      ],
      "execution_count": 3,
      "outputs": [
        {
          "output_type": "execute_result",
          "data": {
            "text/plain": [
              "Index(['preg', 'plas', 'pres', 'skin', 'insu', 'mass', 'pedi', 'age'], dtype='object')"
            ]
          },
          "metadata": {},
          "execution_count": 3
        }
      ]
    },
    {
      "cell_type": "code",
      "metadata": {
        "id": "1Sb3mkBSq3Xi",
        "colab": {
          "base_uri": "https://localhost:8080/"
        },
        "outputId": "9fba9ef9-83e9-47a7-d945-b777a3306adb"
      },
      "source": [
        "clf = clf.fit(train.iloc[:,0:8], train.iloc[:,8]) #first paramater data, second labels\n",
        "y_pred = clf.predict(test.iloc[:,0:8]) #doing prediction on unknown test set\n",
        "y_pred"
      ],
      "execution_count": 4,
      "outputs": [
        {
          "output_type": "execute_result",
          "data": {
            "text/plain": [
              "array(['tested_negative', 'tested_positive', 'tested_negative',\n",
              "       'tested_positive', 'tested_negative', 'tested_positive',\n",
              "       'tested_negative', 'tested_negative', 'tested_negative',\n",
              "       'tested_negative'], dtype=object)"
            ]
          },
          "metadata": {},
          "execution_count": 4
        }
      ]
    },
    {
      "cell_type": "code",
      "metadata": {
        "id": "zE4DKCgKq3Xm",
        "colab": {
          "base_uri": "https://localhost:8080/"
        },
        "outputId": "84fcc100-66e2-4e74-ad2c-a3a69f46e197"
      },
      "source": [
        "from sklearn.metrics import confusion_matrix #let's see how good we did\n",
        "y_true = test.iloc[:,8]\n",
        "tn, fp, fn, tp = confusion_matrix(y_true, y_pred).ravel()\n",
        "tn, fp, fn, tp"
      ],
      "execution_count": 5,
      "outputs": [
        {
          "output_type": "execute_result",
          "data": {
            "text/plain": [
              "(np.int64(6), np.int64(1), np.int64(1), np.int64(2))"
            ]
          },
          "metadata": {},
          "execution_count": 5
        }
      ]
    },
    {
      "cell_type": "code",
      "source": [
        "# Please use different C and gamma values or different kernels which can change\n",
        "# in a loop to see if your training accuracy is increasing or decreasing. When\n",
        "# you find your best, use your parameters to predict the labels of the test\n",
        "# set samples. Please share your findings along with your notebook.\n",
        "\n",
        "\n",
        "C=[1e+03, 1e+04, 1e+05]\n",
        "gamma=[1e-05, 1e-06, 1e-07]\n",
        "kernel = 'rbf'\n",
        "for c in C:\n",
        "  for g in gamma:\n",
        "    clf = svm.SVC(C=c, gamma=g, kernel='rbf', probability=True)\n",
        "    clf.fit(train.iloc[:,0:8], train.iloc[:,8])\n",
        "    y_pred = clf.predict(test.iloc[:,0:8])\n",
        "    tn, fp, fn, tp = confusion_matrix(y_true, y_pred).ravel()\n",
        "    print(c, g, kernel, (tp+tn)/(tp+tn+fp+fn))\n",
        "    print('tn:', tn, 'fp:', fp, 'fn:', fn, 'tp:', tp)\n",
        "\n",
        "# Findings written below:"
      ],
      "metadata": {
        "colab": {
          "base_uri": "https://localhost:8080/"
        },
        "id": "ClFnuh8aQBFz",
        "outputId": "0f492c89-afec-46d1-b794-89c8f614ca78"
      },
      "execution_count": 13,
      "outputs": [
        {
          "output_type": "stream",
          "name": "stdout",
          "text": [
            "1000.0 1e-05 rbf 0.8\n",
            "tn: 6 fp: 1 fn: 1 tp: 2\n",
            "1000.0 1e-06 rbf 0.9\n",
            "tn: 7 fp: 0 fn: 1 tp: 2\n",
            "1000.0 1e-07 rbf 0.9\n",
            "tn: 7 fp: 0 fn: 1 tp: 2\n",
            "10000.0 1e-05 rbf 0.8\n",
            "tn: 7 fp: 0 fn: 2 tp: 1\n",
            "10000.0 1e-06 rbf 0.8\n",
            "tn: 6 fp: 1 fn: 1 tp: 2\n",
            "10000.0 1e-07 rbf 0.9\n",
            "tn: 7 fp: 0 fn: 1 tp: 2\n",
            "100000.0 1e-05 rbf 0.8\n",
            "tn: 7 fp: 0 fn: 2 tp: 1\n",
            "100000.0 1e-06 rbf 0.9\n",
            "tn: 7 fp: 0 fn: 1 tp: 2\n",
            "100000.0 1e-07 rbf 0.9\n",
            "tn: 7 fp: 0 fn: 1 tp: 2\n"
          ]
        }
      ]
    },
    {
      "cell_type": "markdown",
      "source": [
        "Findings: I tried using different kernels besides 'rbf', but they didn't seem to compile. Or at least they were taking far too long.\n",
        "\n",
        "From the the different combinations:\n",
        "\n",
        "c 1000 along with both gamma 1e-06 and 1e-07 resulted in an accuracy of 0.9, with 7 tn, 0 fp, 1 fn, and 2 tp.\n",
        "\n",
        "c 10000 with gamma 1e-07 also resulted in an accuracy of 0.9 and the same values for tn, fp, fn, and tp.\n",
        "\n",
        "c 100000 along with both gamma 1e-06 and 1e-07 also resulted in an accuracy of 0.9 and the same values for tn, fp, fn, and tp."
      ],
      "metadata": {
        "id": "GJtacwOAQ2Yb"
      }
    },
    {
      "cell_type": "code",
      "metadata": {
        "id": "yTN-i2clq3Xq",
        "colab": {
          "base_uri": "https://localhost:8080/"
        },
        "outputId": "8c4841e7-3f4c-4ff5-c135-d6aa1cc23e2c"
      },
      "source": [
        "import numpy as np\n",
        "from sklearn.metrics import roc_curve, auc\n",
        "#from scipy import interp\n",
        "\n",
        "\n",
        "y = test.iloc[:,8]\n",
        "scores = clf.predict_proba(test.iloc[:,0:8])\n",
        "scores[:,1]\n",
        "#y is the true labels, scores[:,1] which has probabilities\n",
        "fpr, tpr, thresholds = roc_curve(y, scores[:,1], pos_label='tested_positive')\n",
        "#fpr, tpr, thresholds = roc_curve(true_labels, scores[:,1], pos_label=1)\n",
        "\n",
        "roc_auc = auc(fpr,tpr)\n",
        "\n",
        "print(fpr)\n",
        "\n",
        "print(tpr)\n",
        "\n",
        "print(thresholds)"
      ],
      "execution_count": 14,
      "outputs": [
        {
          "output_type": "stream",
          "name": "stdout",
          "text": [
            "[0.         0.         0.         0.28571429 0.28571429 1.        ]\n",
            "[0.         0.33333333 0.66666667 0.66666667 1.         1.        ]\n",
            "[       inf 0.89812489 0.87718965 0.33351755 0.26216099 0.10678079]\n"
          ]
        }
      ]
    },
    {
      "cell_type": "code",
      "metadata": {
        "id": "Y_MA7nzjq3Xt",
        "outputId": "9719518e-749b-4de9-9d4a-482dd7a951d1",
        "colab": {
          "base_uri": "https://localhost:8080/",
          "height": 472
        }
      },
      "source": [
        "%matplotlib inline\n",
        "import matplotlib.pyplot as plt\n",
        "plt.figure()\n",
        "lw = 2\n",
        "plt.plot(fpr, tpr, color='darkorange',\n",
        "         lw=lw, label='ROC curve (area = %0.2f)' % roc_auc)\n",
        "plt.plot([0, 1], [0, 1], color='navy', lw=lw, linestyle='--')\n",
        "plt.xlim([0.0, 1.0])\n",
        "plt.ylim([0.0, 1.05])\n",
        "plt.xlabel('False Positive Rate')\n",
        "plt.ylabel('True Positive Rate')\n",
        "plt.title('Receiver operating characteristic example')\n",
        "plt.legend(loc=\"lower right\")\n",
        "plt.show()"
      ],
      "execution_count": 15,
      "outputs": [
        {
          "output_type": "display_data",
          "data": {
            "text/plain": [
              "<Figure size 640x480 with 1 Axes>"
            ],
            "image/png": "[encoded data removed]"
          },
          "metadata": {}
        }
      ]
    }
  ]
}